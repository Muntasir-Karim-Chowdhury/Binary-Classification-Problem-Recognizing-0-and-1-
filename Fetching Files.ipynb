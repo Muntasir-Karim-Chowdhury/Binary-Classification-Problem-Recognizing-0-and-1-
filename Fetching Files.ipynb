{
 "cells": [
  {
   "cell_type": "code",
   "execution_count": 1,
   "id": "164acc69-4b32-441d-b5c1-048737d9210b",
   "metadata": {},
   "outputs": [
    {
     "name": "stdout",
     "output_type": "stream",
     "text": [
      "Download lab_coffee_utils.py\n"
     ]
    }
   ],
   "source": [
    "import requests\n",
    "url = \"https://raw.githubusercontent.com/greyhatguy007/Machine-Learning-Specialization-Coursera/refs/heads/main/C2%20-%20Advanced%20Learning%20Algorithms/week1/optional-labs/lab_coffee_utils.py\"\n",
    "\n",
    "r = requests.get(url)\n",
    "\n",
    "with open(\"lab_coffee_utils.py\", \"w\", encoding=\"utf-8\") as f:\n",
    "    f.write(r.text)\n",
    "print(\"Download lab_coffee_utils.py\")"
   ]
  },
  {
   "cell_type": "code",
   "execution_count": 2,
   "id": "baf30bdf-3e5a-4d0d-a561-97e12248a9dc",
   "metadata": {},
   "outputs": [
    {
     "name": "stdout",
     "output_type": "stream",
     "text": [
      "download lab_neurons_utils.py\n"
     ]
    }
   ],
   "source": [
    "import requests\n",
    "url = \"https://raw.githubusercontent.com/greyhatguy007/Machine-Learning-Specialization-Coursera/refs/heads/main/C2%20-%20Advanced%20Learning%20Algorithms/week1/optional-labs/lab_neurons_utils.py\"\n",
    "\n",
    "r = requests.get(url)\n",
    "\n",
    "with open(\"lab_neurons_utils.py\", \"w\", encoding = \"utf-8\") as f:\n",
    "    f.write(r.text)\n",
    "print(\"download lab_neurons_utils.py\")"
   ]
  },
  {
   "cell_type": "code",
   "execution_count": 3,
   "id": "d306c5c4-2775-48aa-b927-06d4431b7cb5",
   "metadata": {},
   "outputs": [
    {
     "name": "stdout",
     "output_type": "stream",
     "text": [
      "download lab_utils_common.py\n"
     ]
    }
   ],
   "source": [
    "import requests\n",
    "url = \"https://raw.githubusercontent.com/greyhatguy007/Machine-Learning-Specialization-Coursera/refs/heads/main/C2%20-%20Advanced%20Learning%20Algorithms/week1/optional-labs/lab_utils_common.py\"\n",
    "\n",
    "r = requests.get(url)\n",
    "\n",
    "with open(\"lab_utils_common.py\", \"w\", encoding = \"utf-8\") as f:\n",
    "    f.write(r.text)\n",
    "print(\"download lab_utils_common.py\")"
   ]
  },
  {
   "cell_type": "code",
   "execution_count": 5,
   "id": "b320e04a-4437-4294-8e02-b34286637ce6",
   "metadata": {},
   "outputs": [
    {
     "name": "stdout",
     "output_type": "stream",
     "text": [
      "download deeplearning.mplstyle\n"
     ]
    }
   ],
   "source": [
    "\n",
    "import requests\n",
    "url = \"https://raw.githubusercontent.com/greyhatguy007/Machine-Learning-Specialization-Coursera/refs/heads/main/C2%20-%20Advanced%20Learning%20Algorithms/week1/optional-labs/deeplearning.mplstyle\"\n",
    "\n",
    "r = requests.get(url)\n",
    "\n",
    "with open(\"deeplearning.mplstyle\", \"w\", encoding = \"utf-8\") as f:\n",
    "    f.write(r.text)\n",
    "print(\"download deeplearning.mplstyle\")"
   ]
  },
  {
   "cell_type": "code",
   "execution_count": 1,
   "id": "b0581136-5625-4a18-b09f-ea3e321b3992",
   "metadata": {},
   "outputs": [
    {
     "name": "stdout",
     "output_type": "stream",
     "text": [
      "download autils.py\n"
     ]
    }
   ],
   "source": [
    "import requests\n",
    "url = \"https://raw.githubusercontent.com/greyhatguy007/Machine-Learning-Specialization-Coursera/refs/heads/main/C2%20-%20Advanced%20Learning%20Algorithms/week1/C2W1A1/autils.py\"\n",
    "\n",
    "r = requests.get(url)\n",
    "\n",
    "with open(\"autils.py\", \"w\", encoding = \"utf-8\") as f:\n",
    "    f.write(r.text)\n",
    "print(\"download autils.py\")"
   ]
  },
  {
   "cell_type": "code",
   "execution_count": 2,
   "id": "0e6262af-579c-440d-bbe0-d4e8e2e734c0",
   "metadata": {},
   "outputs": [
    {
     "name": "stdout",
     "output_type": "stream",
     "text": [
      "download public_tests.py\n"
     ]
    }
   ],
   "source": [
    "import requests\n",
    "url = \"https://raw.githubusercontent.com/greyhatguy007/Machine-Learning-Specialization-Coursera/refs/heads/main/C2%20-%20Advanced%20Learning%20Algorithms/week1/C2W1A1/public_tests.py\"\n",
    "\n",
    "r = requests.get(url)\n",
    "\n",
    "with open(\"public_tests.py\", \"w\", encoding = \"utf-8\") as f:\n",
    "    f.write(r.text)\n",
    "print(\"download public_tests.py\")"
   ]
  },
  {
   "cell_type": "code",
   "execution_count": 3,
   "id": "24ada6ed-1cef-45b4-856c-1c6d2138575e",
   "metadata": {},
   "outputs": [
    {
     "name": "stdout",
     "output_type": "stream",
     "text": [
      "download utils.py\n"
     ]
    }
   ],
   "source": [
    "import requests\n",
    "url = \"https://raw.githubusercontent.com/greyhatguy007/Machine-Learning-Specialization-Coursera/refs/heads/main/C2%20-%20Advanced%20Learning%20Algorithms/week1/C2W1A1/utils.py\"\n",
    "\n",
    "r = requests.get(url)\n",
    "\n",
    "with open(\"utils.py\", \"w\", encoding = \"utf-8\") as f:\n",
    "    f.write(r.text)\n",
    "print(\"download utils.py\")"
   ]
  },
  {
   "cell_type": "code",
   "execution_count": null,
   "id": "36f53d93-84ac-4108-8a3a-5e21bfcfb517",
   "metadata": {},
   "outputs": [],
   "source": []
  }
 ],
 "metadata": {
  "kernelspec": {
   "display_name": "Python 3 (ipykernel)",
   "language": "python",
   "name": "python3"
  },
  "language_info": {
   "codemirror_mode": {
    "name": "ipython",
    "version": 3
   },
   "file_extension": ".py",
   "mimetype": "text/x-python",
   "name": "python",
   "nbconvert_exporter": "python",
   "pygments_lexer": "ipython3",
   "version": "3.13.5"
  }
 },
 "nbformat": 4,
 "nbformat_minor": 5
}
